{
 "cells": [
  {
   "cell_type": "code",
   "execution_count": 1,
   "id": "8b550453-077a-49a2-a575-cad240481297",
   "metadata": {},
   "outputs": [
    {
     "name": "stdout",
     "output_type": "stream",
     "text": [
      "hello,akhil\n"
     ]
    }
   ],
   "source": [
    "#1\n",
    "print(\"hello,akhil\")\n"
   ]
  },
  {
   "cell_type": "code",
   "execution_count": 3,
   "id": "18b67a5b-2d42-4691-bb1d-6ba6ec4500c4",
   "metadata": {},
   "outputs": [
    {
     "name": "stdin",
     "output_type": "stream",
     "text": [
      "enter number 7\n"
     ]
    },
    {
     "name": "stdout",
     "output_type": "stream",
     "text": [
      "it is odd\n"
     ]
    }
   ],
   "source": [
    "#2 Write a program to check if a number is even or odd\n",
    "num=int(input(\"enter number\"))\n",
    "if num%2==0:\n",
    "     print(\"it is even\")\n",
    "else:\n",
    "    print(\"it is odd\")"
   ]
  },
  {
   "cell_type": "code",
   "execution_count": 1,
   "id": "035cb66b-13a0-4187-ad97-9d95b6cdbbc7",
   "metadata": {},
   "outputs": [
    {
     "name": "stdin",
     "output_type": "stream",
     "text": [
      "enter number 10\n"
     ]
    },
    {
     "name": "stdout",
     "output_type": "stream",
     "text": [
      "55\n"
     ]
    }
   ],
   "source": [
    "#3 sum of all numbers 1-N\n",
    "n=int(input(\"enter number\"))\n",
    "a=0\n",
    "for i in range(1,n+1):\n",
    "    a+=i\n",
    "print(a)"
   ]
  },
  {
   "cell_type": "code",
   "execution_count": 24,
   "id": "b69d0d04-16ae-431a-8a37-6a96720492aa",
   "metadata": {},
   "outputs": [
    {
     "name": "stdin",
     "output_type": "stream",
     "text": [
      "enter number: 10\n"
     ]
    },
    {
     "name": "stdout",
     "output_type": "stream",
     "text": [
      "3628800\n"
     ]
    }
   ],
   "source": [
    "#4 factorial of a number\n",
    "n=int(input(\"enter number:\"))\n",
    "import math\n",
    "a = 10\n",
    "result = math.factorial(a)\n",
    "print(result)"
   ]
  },
  {
   "cell_type": "code",
   "execution_count": 2,
   "id": "631aeb83-63fd-4c2b-9541-e9af7e547721",
   "metadata": {},
   "outputs": [
    {
     "name": "stdout",
     "output_type": "stream",
     "text": [
      "uffa\n"
     ]
    }
   ],
   "source": [
    "#5 reverse string \n",
    "a=\"affu\"\n",
    "reverse_string=a[::-1]\n",
    "print(reverse_string)"
   ]
  },
  {
   "cell_type": "code",
   "execution_count": 6,
   "id": "5ec0e4f6-227a-4075-99a8-6cd114d41169",
   "metadata": {},
   "outputs": [
    {
     "name": "stdin",
     "output_type": "stream",
     "text": [
      "enter the number 10\n"
     ]
    },
    {
     "name": "stdout",
     "output_type": "stream",
     "text": [
      "10 not  a prime number\n"
     ]
    }
   ],
   "source": [
    "#6 prime number or not\n",
    "num=int(input(\"enter the number\"))\n",
    "flag= False\n",
    "if num ==1:\n",
    "    print(\"print this is not a prime number\")\n",
    "elif num > 1:\n",
    "    for i in range (2,num):\n",
    "        if (num%i)==0:\n",
    "          flag = True\n",
    "          break\n",
    "if flag:\n",
    "   print(num,\"not  a prime number\")\n",
    "else:\n",
    "     print(num,\"prime number\")"
   ]
  },
  {
   "cell_type": "code",
   "execution_count": 2,
   "id": "5bbba135-3535-4534-9c45-37b83ebc2958",
   "metadata": {},
   "outputs": [
    {
     "name": "stdout",
     "output_type": "stream",
     "text": [
      "36\n"
     ]
    }
   ],
   "source": [
    "#7 square root of a number\n",
    "a=6\n",
    "square=a*a\n",
    "print(square)\n"
   ]
  },
  {
   "cell_type": "code",
   "execution_count": 7,
   "id": "ad7cd8a4-c188-42dd-b13b-e67e57bd8acf",
   "metadata": {},
   "outputs": [
    {
     "name": "stdin",
     "output_type": "stream",
     "text": [
      "enter first num 23\n",
      "enter second num 10\n"
     ]
    },
    {
     "name": "stdout",
     "output_type": "stream",
     "text": [
      "230\n",
      "13\n",
      "2.3\n",
      "33\n",
      "3\n"
     ]
    }
   ],
   "source": [
    "#8 calculator\n",
    "a=int(input(\"enter first num\"))\n",
    "b=int(input(\"enter second num\"))\n",
    "print(a*b)\n",
    "print(a-b)\n",
    "print(a/b)\n",
    "print(a+b)\n",
    "print(a%b)"
   ]
  },
  {
   "cell_type": "code",
   "execution_count": 7,
   "id": "4897467a-0bfd-4254-8458-045e437b77a3",
   "metadata": {},
   "outputs": [
    {
     "name": "stdin",
     "output_type": "stream",
     "text": [
      "enter the number 10\n"
     ]
    },
    {
     "name": "stdout",
     "output_type": "stream",
     "text": [
      "8\n"
     ]
    }
   ],
   "source": [
    "#9 even numbers 1toN\n",
    "n=int(input(\"enter the number\"))\n",
    "list=[]\n",
    "for i in range(0,n,2):\n",
    "    i%2==0\n",
    "    list.append(i)\n",
    "print(i)"
   ]
  },
  {
   "cell_type": "code",
   "execution_count": 10,
   "id": "ebee2e76-0716-442b-afbc-ce71999db35e",
   "metadata": {},
   "outputs": [
    {
     "name": "stdout",
     "output_type": "stream",
     "text": [
      "mom string is palindrome\n"
     ]
    }
   ],
   "source": [
    "#10 given string is palindrome or not\n",
    "str=(\"mom\")\n",
    "if str==str[: :-1]:\n",
    "      print(str,\"string is palindrome\")\n",
    "else:\n",
    "    print(str,\"string is not palindrome\")\n",
    "    "
   ]
  },
  {
   "cell_type": "code",
   "execution_count": 1,
   "id": "d6053fd2-99e2-499b-94e9-d378e2e7658a",
   "metadata": {},
   "outputs": [
    {
     "name": "stdout",
     "output_type": "stream",
     "text": [
      "largest number: 44\n"
     ]
    }
   ],
   "source": [
    "#11 the largest number in the list\n",
    "list=[1,22,33,12,44,25]\n",
    "print('largest number:',max(list))"
   ]
  },
  {
   "cell_type": "code",
   "execution_count": 6,
   "id": "cc311d3b-3e31-4ec0-ad91-1e0b17438437",
   "metadata": {},
   "outputs": [
    {
     "name": "stdin",
     "output_type": "stream",
     "text": [
      "enter the numbers of terms for Fibonacci sequence:  10\n"
     ]
    },
    {
     "name": "stdout",
     "output_type": "stream",
     "text": [
      "fibonacci_sequence up to 10 terms\n",
      "0 1 1 2 3 5 8 13 21 34 "
     ]
    }
   ],
   "source": [
    "#12 Generate a Fibonacci sequence up to N terms\n",
    "N=int(input(\"enter the numbers of terms for Fibonacci sequence: \"))\n",
    "def fibonacci_sequence(a=0, b=1, count=N):\n",
    "    print(a, end=' ')\n",
    "    if count>1:\n",
    "        fibonacci_sequence(b, a+b, count-1)\n",
    "print(\"fibonacci_sequence up to\",N,\"terms\")\n",
    "fibonacci_sequence()"
   ]
  },
  {
   "cell_type": "code",
   "execution_count": 10,
   "id": "9e4ff4c7-cb87-4659-bfd0-e3e2ff10eca3",
   "metadata": {},
   "outputs": [
    {
     "name": "stdout",
     "output_type": "stream",
     "text": [
      "number of vowels: 3\n"
     ]
    }
   ],
   "source": [
    "#13 count the no of vowels in a string\n",
    "def count_vowels(s):\n",
    "    vowels = 'aeiouAEIOU'\n",
    "    count = 0\n",
    "    for char in s:\n",
    "        if char in vowels:\n",
    "            count += 1\n",
    "    return count\n",
    "str=\"hello world\"\n",
    "print(\"number of vowels:\",count_vowels(str))"
   ]
  },
  {
   "cell_type": "code",
   "execution_count": 19,
   "id": "579358c4-c462-423d-ab1d-01058ae53996",
   "metadata": {},
   "outputs": [
    {
     "name": "stdin",
     "output_type": "stream",
     "text": [
      "enter the year 2020\n"
     ]
    },
    {
     "name": "stdout",
     "output_type": "stream",
     "text": [
      "leap year\n"
     ]
    }
   ],
   "source": [
    "#14 leap year or not\n",
    "year=int(input(\"enter the year\"))\n",
    "if year%4==0 and year%100!=0:\n",
    "    print(\"leap year\")\n",
    "elif year%400==0 and year%100==0:\n",
    "    print(\"leap year\")\n",
    "else:\n",
    "    print(\"not leap year\")"
   ]
  },
  {
   "cell_type": "code",
   "execution_count": 15,
   "id": "acec16ab-d454-450a-af8e-530020b217ad",
   "metadata": {},
   "outputs": [
    {
     "name": "stdout",
     "output_type": "stream",
     "text": [
      "[12, 14, 15, 22, 23, 24]\n"
     ]
    }
   ],
   "source": [
    "#15 assending order\n",
    "list=[12,22,23,14,15,24]\n",
    "list.sort()\n",
    "print(list)"
   ]
  },
  {
   "cell_type": "code",
   "execution_count": 19,
   "id": "67217fe9-9949-4b88-923a-6a5e0af93998",
   "metadata": {},
   "outputs": [
    {
     "name": "stdout",
     "output_type": "stream",
     "text": [
      "[22, 33, 44, 55, 66]\n",
      "samllest number is: 22\n"
     ]
    }
   ],
   "source": [
    "#16 smallest number in list\n",
    "list=[22,33,44,55,66]\n",
    "list.sort()\n",
    "print(list)\n",
    "print(\"samllest number is:\",list[0])\n",
    "\n"
   ]
  },
  {
   "cell_type": "code",
   "execution_count": 20,
   "id": "dd435435-eb05-4eb0-833b-de6add7ad1b4",
   "metadata": {},
   "outputs": [
    {
     "name": "stdout",
     "output_type": "stream",
     "text": [
      "4\n"
     ]
    }
   ],
   "source": [
    "#17 number of words in sentense\n",
    "a=len(\"i love you mam\" .split())\n",
    "print(a)"
   ]
  },
  {
   "cell_type": "code",
   "execution_count": 23,
   "id": "945afe90-829b-4cd8-916f-a8966c3cc3e6",
   "metadata": {},
   "outputs": [
    {
     "name": "stdout",
     "output_type": "stream",
     "text": [
      "68\n"
     ]
    }
   ],
   "source": [
    "#18 the sum of all digits in given number\n",
    "my_list=[11,2,34,21]\n",
    "sum_list=sum(my_list)\n",
    "print(sum_list)"
   ]
  },
  {
   "cell_type": "code",
   "execution_count": 1,
   "id": "24c3ea24-08ed-402e-8c69-40a62ea60407",
   "metadata": {},
   "outputs": [
    {
     "name": "stdout",
     "output_type": "stream",
     "text": [
      "[33, 11, 12, 44, 55, 23]\n"
     ]
    }
   ],
   "source": [
    "#19 remove duplicate elements in a list\n",
    "a=[11,12,23,33,23,12,33,44,55]\n",
    "list=list(set(a))\n",
    "print(list)"
   ]
  },
  {
   "cell_type": "code",
   "execution_count": 3,
   "id": "819a3ba6-7f3c-40b7-a602-ad1c1dff09db",
   "metadata": {},
   "outputs": [
    {
     "name": "stdout",
     "output_type": "stream",
     "text": [
      "['AKHI', 'VINNU', 'SHUBBU']\n"
     ]
    }
   ],
   "source": [
    "#20 Convert all string values in list to UPPER case\n",
    "list=['akhi','vinnu','shubbu']\n",
    "uppercase=[word.upper () for word in list]\n",
    "print(uppercase)"
   ]
  },
  {
   "cell_type": "code",
   "execution_count": 10,
   "id": "cb587913-6a12-438f-b13e-11cadabecda9",
   "metadata": {},
   "outputs": [
    {
     "name": "stdout",
     "output_type": "stream",
     "text": [
      "[4, 16, 25, 1089, 484, 121]\n"
     ]
    }
   ],
   "source": [
    "#21 Populate new list with squares from given list using while loop\n",
    "list=[2,4,5,33,22,11]\n",
    "my_list=[]\n",
    "index=0\n",
    "while index < len(list):\n",
    "    sqr=list[index]**2\n",
    "    my_list.append(sqr)\n",
    "    index +=1\n",
    "print(my_list)"
   ]
  },
  {
   "cell_type": "code",
   "execution_count": 8,
   "id": "26a14351-ae81-43fe-961d-232345fdfd0c",
   "metadata": {},
   "outputs": [
    {
     "name": "stdout",
     "output_type": "stream",
     "text": [
      "[1, 2, 3, 4, 5, 6]\n"
     ]
    }
   ],
   "source": [
    "#22 Populate new list with squares from given list using for loop\n",
    "list=[1,2,3,4,5,6]\n",
    "for index in range(len(list)):\n",
    "    list[index]**2\n",
    "print(list)"
   ]
  },
  {
   "cell_type": "code",
   "execution_count": null,
   "id": "49faf767-ab2b-41cb-8c8c-de94a0ba98b5",
   "metadata": {},
   "outputs": [],
   "source": [
    "#23"
   ]
  },
  {
   "cell_type": "code",
   "execution_count": 2,
   "id": "1c57b911-1248-45e9-a122-3f10e98b3f83",
   "metadata": {},
   "outputs": [],
   "source": [
    "#24"
   ]
  },
  {
   "cell_type": "code",
   "execution_count": 29,
   "id": "e0423726-9808-4568-b0f0-07939497428d",
   "metadata": {},
   "outputs": [
    {
     "name": "stdin",
     "output_type": "stream",
     "text": [
      "enter the number 5\n"
     ]
    },
    {
     "name": "stdout",
     "output_type": "stream",
     "text": [
      "the number is opssitive\n"
     ]
    }
   ],
   "source": [
    "#25 to check if a number is positive, negative, or zero. using 'if-else'\n",
    "num=int(input(\"enter the number\"))\n",
    "if num < 0:\n",
    "   i==-num\n",
    "   print(\"the number is negitive\")\n",
    "elif num == 0:\n",
    "    print(\"the number is zero\")\n",
    "else:    \n",
    "     print(\"the number is opssitive\")"
   ]
  },
  {
   "cell_type": "code",
   "execution_count": null,
   "id": "4c8affd1-dc4f-4299-a195-6733162b280f",
   "metadata": {},
   "outputs": [],
   "source": [
    "#26 if a year is a leap year using 'if-else'\n",
    "year=int(input(\"enter the year\"))\n",
    "if year%4==0 and year%100!=0:\n",
    "    print(\"leap year\")\n",
    "elif year%400==0 and year%100==0:\n",
    "    print(\"leap year\")\n",
    "else:\n",
    "    print(\"not leap year\")"
   ]
  },
  {
   "cell_type": "code",
   "execution_count": 30,
   "id": "0eb22bb1-2b20-4a93-8ff7-4598eae48428",
   "metadata": {},
   "outputs": [
    {
     "name": "stdin",
     "output_type": "stream",
     "text": [
      "enter the number 13\n"
     ]
    },
    {
     "name": "stdout",
     "output_type": "stream",
     "text": [
      "is odd number\n"
     ]
    }
   ],
   "source": [
    "#27 Check if a given number is even or odd using if else\n",
    "num=int(input(\"enter the number\"))\n",
    "if num%2==0:\n",
    "    print(\"is even number\")\n",
    "else:\n",
    "    print(\"is odd number\")"
   ]
  },
  {
   "cell_type": "code",
   "execution_count": 31,
   "id": "dc5c12d1-b353-4136-9462-44971cc18e64",
   "metadata": {},
   "outputs": [
    {
     "name": "stdin",
     "output_type": "stream",
     "text": [
      "enter the score 55\n"
     ]
    },
    {
     "name": "stdout",
     "output_type": "stream",
     "text": [
      "2nd class\n"
     ]
    }
   ],
   "source": [
    "#28 Implement a simple grading system where you input a student's score and print their grade using ifelse\n",
    "n=int(input(\"enter the score\"))\n",
    "if n >= 75 and n <100:\n",
    "    print(\"1st class\")\n",
    "elif n >=55 and n <75:\n",
    "    print(\"2nd class\")\n",
    "elif n >=35 and n <55:\n",
    "    print(\"3rd class\")\n",
    "else:\n",
    "    print(\"fail\")"
   ]
  },
  {
   "cell_type": "code",
   "execution_count": null,
   "id": "e91a2e17-e55a-4867-a466-89fbfa64d191",
   "metadata": {},
   "outputs": [],
   "source": [
    "#29 if a number is a multiple of 5 or 7 using if-else\n",
    "n=int(input(\"enter the number:\"))\n",
    "if n%5==0 or num%7==0:\n",
    "    print(n,\"the multiple of 5 or 7.\")\n",
    "else:\n",
    "    print(n,\"is not a multiple of 5 or 7.\")"
   ]
  },
  {
   "cell_type": "code",
   "execution_count": 34,
   "id": "c89a5835-cf6b-4f41-a07d-19f3a839477c",
   "metadata": {},
   "outputs": [
    {
     "name": "stdout",
     "output_type": "stream",
     "text": [
      "1st largest number is: 76\n",
      "2nd largest numner is: 65\n",
      "3rd largest number is: 55\n"
     ]
    }
   ],
   "source": [
    "#30 Find the large of three numbers using if-else\n",
    "list=[21,23,44,55,65,76,44]\n",
    "if list:\n",
    "    list.sort()\n",
    "    print(\"1st largest number is:\",list[-1])\n",
    "    print(\"2nd largest number is:\",list[-2])\n",
    "    print(\"3rd largest number is:\",list[-3])\n",
    "else:\n",
    "    (\"There is no such a list\")"
   ]
  },
  {
   "cell_type": "code",
   "execution_count": 24,
   "id": "cb2d3277-0b26-454e-a35d-7924e321971a",
   "metadata": {},
   "outputs": [
    {
     "name": "stdin",
     "output_type": "stream",
     "text": [
      "enter a charecter: akhil\n"
     ]
    },
    {
     "name": "stdout",
     "output_type": "stream",
     "text": [
      "a is a vowel.\n",
      "i is a vowel.\n",
      "l thire is not a vowel.\n",
      "Total number of vowels in the given character: 2\n"
     ]
    }
   ],
   "source": [
    "#31 Check if a given character is a vowel or a consonant using if-else\n",
    "char=input(\"enter a charecter:\")\n",
    "vowel='aeiouAEIOU'\n",
    "count=0\n",
    "for c in char:\n",
    "   if c in vowel:\n",
    "      count += 1\n",
    "      print(c,\"is a vowel.\")\n",
    "else:\n",
    "    print(c,\"thire is not a vowel.\")\n",
    "print(\"Total number of vowels in the given character:\", count)  "
   ]
  },
  {
   "cell_type": "code",
   "execution_count": 22,
   "id": "a89aa194-9c26-4255-b0af-247239937461",
   "metadata": {},
   "outputs": [
    {
     "name": "stdin",
     "output_type": "stream",
     "text": [
      "enter the weight 65\n"
     ]
    },
    {
     "name": "stdout",
     "output_type": "stream",
     "text": [
      "under weight\n"
     ]
    }
   ],
   "source": [
    "#32 the BMI of a person and categorize it  useing 'if-else' (e.g., underweight, normal, overweight) \n",
    "\n",
    "bmi=int(input(\"enter the weight\"))\n",
    "if bmi <=70:\n",
    "    print(\"under weight\")\n",
    "elif bmi<60:\n",
    "    print(\"normal weight\")\n",
    "else:\n",
    "    print(\"over weight\")"
   ]
  },
  {
   "cell_type": "code",
   "execution_count": 23,
   "id": "9433a81f-cdd3-4426-a7a2-0e60c664ed89",
   "metadata": {},
   "outputs": [
    {
     "name": "stdin",
     "output_type": "stream",
     "text": [
      "enter the number 6\n"
     ]
    },
    {
     "name": "stdout",
     "output_type": "stream",
     "text": [
      "1\n",
      "2\n",
      "3\n",
      "4\n",
      "5\n"
     ]
    }
   ],
   "source": [
    "#33 to print all the numbers from 1 to N using a 'for' loop (where N is entered by the user)\n",
    "n=int(input(\"enter the number\"))\n",
    "for i in range(1,n):\n",
    " print(i)"
   ]
  },
  {
   "cell_type": "code",
   "execution_count": 26,
   "id": "c892d1ea-b604-4d1d-8daf-22b56e393499",
   "metadata": {},
   "outputs": [
    {
     "name": "stdin",
     "output_type": "stream",
     "text": [
      "enter number 10\n"
     ]
    },
    {
     "name": "stdout",
     "output_type": "stream",
     "text": [
      "30\n"
     ]
    }
   ],
   "source": [
    "#34 to calculate the sum of all even numbers from 1 to N using a for loop\n",
    "n=int(input(\"enter number\"))\n",
    "sum=0\n",
    "for i in range(2,n+1,2):\n",
    "    sum+=i\n",
    "print(sum)"
   ]
  },
  {
   "cell_type": "code",
   "execution_count": 27,
   "id": "3a0af19a-e09e-404e-913a-d8d7cae1513d",
   "metadata": {},
   "outputs": [
    {
     "name": "stdin",
     "output_type": "stream",
     "text": [
      "enter number 5\n"
     ]
    },
    {
     "name": "stdout",
     "output_type": "stream",
     "text": [
      "5 * 1 5\n",
      "5 * 2 10\n",
      "5 * 3 15\n",
      "5 * 4 20\n",
      "5 * 5 25\n",
      "5 * 6 30\n",
      "5 * 7 35\n",
      "5 * 8 40\n",
      "5 * 9 45\n",
      "5 * 10 50\n"
     ]
    }
   ],
   "source": [
    "#35 The multiplication table of a given number using a for loop\n",
    "num=int(input(\"enter number\"))\n",
    "for i in range(1,11):\n",
    "    print(num,'*',i,num*i)"
   ]
  },
  {
   "cell_type": "code",
   "execution_count": 28,
   "id": "b2539e71-4182-4232-ab45-3423237d75e3",
   "metadata": {},
   "outputs": [
    {
     "name": "stdin",
     "output_type": "stream",
     "text": [
      "enter number 100\n"
     ]
    },
    {
     "name": "stdout",
     "output_type": "stream",
     "text": [
      "1\n",
      "2\n",
      "4\n",
      "5\n",
      "10\n",
      "20\n",
      "25\n",
      "50\n",
      "100\n"
     ]
    }
   ],
   "source": [
    "#36 to calculate the factorial of a number using a for loop\n",
    "n=int(input(\"enter number\"))\n",
    "for i in range(1,n+1):\n",
    "    if n%i==0:\n",
    "            print(i)"
   ]
  },
  {
   "cell_type": "code",
   "execution_count": 12,
   "id": "c736654a-31c0-4778-b773-0c999a5402ca",
   "metadata": {},
   "outputs": [
    {
     "name": "stdin",
     "output_type": "stream",
     "text": [
      "enter the  number for countdown: 5\n"
     ]
    },
    {
     "name": "stdout",
     "output_type": "stream",
     "text": [
      "countdown start:\n",
      "5\n",
      "4\n",
      "3\n",
      "2\n",
      "1\n",
      "blast off!\n"
     ]
    }
   ],
   "source": [
    "#37 a simple countdown timer that starts from N and counts down to 1 using for loop\n",
    "n=int(input(\"enter the  number for countdown:\"))\n",
    "print(\"countdown start:\")\n",
    "for i in range(n,0,-1):\n",
    "    print(i)\n",
    "print(\"blast off!\")"
   ]
  },
  {
   "cell_type": "code",
   "execution_count": 10,
   "id": "0b64b184-db7a-4866-8e84-64d38c71d5d0",
   "metadata": {},
   "outputs": [
    {
     "name": "stdin",
     "output_type": "stream",
     "text": [
      "enter number 4\n"
     ]
    },
    {
     "name": "stdout",
     "output_type": "stream",
     "text": [
      "0\n",
      "1\n",
      "17\n",
      "98\n"
     ]
    }
   ],
   "source": [
    "#38 Find the sum of the square of all numbers from 1 to N using for loop\n",
    "n=int(input(\"enter number\"))\n",
    "sum=0\n",
    "for i in range(0,n):\n",
    "    sum+=i**n\n",
    "    print(sum)"
   ]
  },
  {
   "cell_type": "code",
   "execution_count": 11,
   "id": "4fdf929f-ce46-497c-821f-3564be3d2246",
   "metadata": {},
   "outputs": [
    {
     "name": "stdin",
     "output_type": "stream",
     "text": [
      "enter number 5\n"
     ]
    },
    {
     "name": "stdout",
     "output_type": "stream",
     "text": [
      "0\n",
      "1\n",
      "3\n",
      "6\n",
      "10\n"
     ]
    }
   ],
   "source": [
    "#39 Calculate the product of all elements in a list using for loop\n",
    "n=int(input(\"enter number\"))\n",
    "total=0\n",
    "for i in range(0,n):\n",
    "    total+=i\n",
    "    print(total)"
   ]
  },
  {
   "cell_type": "code",
   "execution_count": null,
   "id": "9e79f35e-fa5e-4cb0-ad5b-aa3168f4afb4",
   "metadata": {},
   "outputs": [],
   "source": [
    "#40 that counts the number of in a given number using for loop "
   ]
  },
  {
   "cell_type": "code",
   "execution_count": 9,
   "id": "95c77304-6ed9-4b9d-afae-af46ab38b235",
   "metadata": {},
   "outputs": [
    {
     "name": "stdin",
     "output_type": "stream",
     "text": [
      "enter number 20\n"
     ]
    },
    {
     "name": "stdout",
     "output_type": "stream",
     "text": [
      "0\n",
      "6\n",
      "12\n",
      "18\n"
     ]
    }
   ],
   "source": [
    "#41 Find and print all the even numbers between 1 and N that are also divisible by 3 using if-else and  for loop\n",
    "n=int(input(\"enter number\"))\n",
    "for i in range(0,n):\n",
    "    if i%2==0 and i%3==0:\n",
    "        print(i)\n"
   ]
  },
  {
   "cell_type": "code",
   "execution_count": 4,
   "id": "240ebc89-9eb1-429f-871b-12777a72da37",
   "metadata": {},
   "outputs": [
    {
     "name": "stdin",
     "output_type": "stream",
     "text": [
      "enter number 10\n"
     ]
    },
    {
     "name": "stdout",
     "output_type": "stream",
     "text": [
      "4\n",
      "16\n",
      "36\n",
      "64\n",
      "100\n"
     ]
    }
   ],
   "source": [
    "#42  the sum of squares of all even numbers from 1 to N using if-else and  for loop\n",
    "n=int(input(\"enter number\"))\n",
    "for i in range(2,n+1,2):\n",
    "    sqr=i**2\n",
    "    print(sqr)"
   ]
  },
  {
   "cell_type": "code",
   "execution_count": null,
   "id": "04904343-9405-4b2d-8f83-a0f630dfc9d7",
   "metadata": {},
   "outputs": [],
   "source": [
    "#43 to find and print the first N Fibonacci numbers using if-else and  for loop\n"
   ]
  },
  {
   "cell_type": "code",
   "execution_count": null,
   "id": "60e88678-baec-4712-9b95-ee086ee46751",
   "metadata": {},
   "outputs": [],
   "source": [
    "#44 Calculate the sum of all prime numbers from 1 to N using a for-loop\n"
   ]
  },
  {
   "cell_type": "code",
   "execution_count": 14,
   "id": "bd41699c-87ec-48a5-835e-fd6a8dade543",
   "metadata": {},
   "outputs": [
    {
     "name": "stdin",
     "output_type": "stream",
     "text": [
      "enter number 6\n"
     ]
    },
    {
     "name": "stdout",
     "output_type": "stream",
     "text": [
      "factors 6 are [1]\n",
      "factors 6 are [1, 2]\n",
      "factors 6 are [1, 2, 3]\n",
      "factors 6 are [1, 2, 3, 6]\n"
     ]
    }
   ],
   "source": [
    "#45\n",
    "n=int(input(\"enter number\"))\n",
    "factors=[]\n",
    "for i in range(1,n+1):\n",
    "    if n%i==0:\n",
    "        factors.append(i)\n",
    "        print(\"factors\",n,\"are\",factors)"
   ]
  },
  {
   "cell_type": "code",
   "execution_count": null,
   "id": "6142bb39-f8f3-418f-a589-6fb76117982b",
   "metadata": {},
   "outputs": [],
   "source": []
  }
 ],
 "metadata": {
  "kernelspec": {
   "display_name": "Python 3 (ipykernel)",
   "language": "python",
   "name": "python3"
  },
  "language_info": {
   "codemirror_mode": {
    "name": "ipython",
    "version": 3
   },
   "file_extension": ".py",
   "mimetype": "text/x-python",
   "name": "python",
   "nbconvert_exporter": "python",
   "pygments_lexer": "ipython3",
   "version": "3.12.2"
  }
 },
 "nbformat": 4,
 "nbformat_minor": 5
}
