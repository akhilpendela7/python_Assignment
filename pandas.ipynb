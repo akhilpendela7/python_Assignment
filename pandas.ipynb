{
 "cells": [
  {
   "cell_type": "code",
   "execution_count": 1,
   "id": "8561e5cc-a94d-4a3b-af90-9b6a2d1fa9a5",
   "metadata": {},
   "outputs": [
    {
     "name": "stdout",
     "output_type": "stream",
     "text": [
      "Collecting pandasNote: you may need to restart the kernel to use updated packages.\n",
      "\n",
      "  Downloading pandas-2.2.1-cp312-cp312-win_amd64.whl.metadata (19 kB)\n",
      "Collecting numpy<2,>=1.26.0 (from pandas)\n",
      "  Downloading numpy-1.26.4-cp312-cp312-win_amd64.whl.metadata (61 kB)\n",
      "     ---------------------------------------- 0.0/61.0 kB ? eta -:--:--\n",
      "     -------------------- ------------------- 30.7/61.0 kB 1.3 MB/s eta 0:00:01\n",
      "     ---------------------------------------- 61.0/61.0 kB 1.1 MB/s eta 0:00:00\n",
      "Requirement already satisfied: python-dateutil>=2.8.2 in c:\\users\\santh\\appdata\\local\\programs\\python\\python312\\lib\\site-packages (from pandas) (2.9.0.post0)\n",
      "Collecting pytz>=2020.1 (from pandas)\n",
      "  Downloading pytz-2024.1-py2.py3-none-any.whl.metadata (22 kB)\n",
      "Collecting tzdata>=2022.7 (from pandas)\n",
      "  Downloading tzdata-2024.1-py2.py3-none-any.whl.metadata (1.4 kB)\n",
      "Requirement already satisfied: six>=1.5 in c:\\users\\santh\\appdata\\local\\programs\\python\\python312\\lib\\site-packages (from python-dateutil>=2.8.2->pandas) (1.16.0)\n",
      "Downloading pandas-2.2.1-cp312-cp312-win_amd64.whl (11.5 MB)\n",
      "   ---------------------------------------- 0.0/11.5 MB ? eta -:--:--\n",
      "   --- ------------------------------------ 1.0/11.5 MB 29.8 MB/s eta 0:00:01\n",
      "   --------- ------------------------------ 2.8/11.5 MB 29.7 MB/s eta 0:00:01\n",
      "   ------------ --------------------------- 3.5/11.5 MB 24.5 MB/s eta 0:00:01\n",
      "   ---------------- ----------------------- 4.6/11.5 MB 24.4 MB/s eta 0:00:01\n",
      "   ------------------ --------------------- 5.4/11.5 MB 23.0 MB/s eta 0:00:01\n",
      "   --------------------- ------------------ 6.2/11.5 MB 21.8 MB/s eta 0:00:01\n",
      "   ------------------------ --------------- 7.0/11.5 MB 21.3 MB/s eta 0:00:01\n",
      "   ------------------------ --------------- 7.2/11.5 MB 20.8 MB/s eta 0:00:01\n",
      "   -------------------------- ------------- 7.7/11.5 MB 18.2 MB/s eta 0:00:01\n",
      "   ---------------------------- ----------- 8.2/11.5 MB 17.4 MB/s eta 0:00:01\n",
      "   ------------------------------ --------- 8.7/11.5 MB 16.9 MB/s eta 0:00:01\n",
      "   -------------------------------- ------- 9.3/11.5 MB 16.5 MB/s eta 0:00:01\n",
      "   ---------------------------------- ----- 9.9/11.5 MB 16.2 MB/s eta 0:00:01\n",
      "   ------------------------------------ --- 10.5/11.5 MB 16.0 MB/s eta 0:00:01\n",
      "   -------------------------------------- - 11.2/11.5 MB 15.2 MB/s eta 0:00:01\n",
      "   ---------------------------------------  11.5/11.5 MB 14.9 MB/s eta 0:00:01\n",
      "   ---------------------------------------  11.5/11.5 MB 14.9 MB/s eta 0:00:01\n",
      "   ---------------------------------------  11.5/11.5 MB 14.9 MB/s eta 0:00:01\n",
      "   ---------------------------------------- 11.5/11.5 MB 12.6 MB/s eta 0:00:00\n",
      "Downloading numpy-1.26.4-cp312-cp312-win_amd64.whl (15.5 MB)\n",
      "   ---------------------------------------- 0.0/15.5 MB ? eta -:--:--\n",
      "   - -------------------------------------- 0.6/15.5 MB 17.3 MB/s eta 0:00:01\n",
      "   --- ------------------------------------ 1.2/15.5 MB 15.4 MB/s eta 0:00:01\n",
      "   ---- ----------------------------------- 1.7/15.5 MB 12.1 MB/s eta 0:00:02\n",
      "   ------ --------------------------------- 2.6/15.5 MB 13.6 MB/s eta 0:00:01\n",
      "   -------- ------------------------------- 3.3/15.5 MB 13.9 MB/s eta 0:00:01\n",
      "   ---------- ----------------------------- 3.9/15.5 MB 14.8 MB/s eta 0:00:01\n",
      "   ------------ --------------------------- 4.7/15.5 MB 14.3 MB/s eta 0:00:01\n",
      "   -------------- ------------------------- 5.5/15.5 MB 14.6 MB/s eta 0:00:01\n",
      "   ---------------- ----------------------- 6.3/15.5 MB 15.4 MB/s eta 0:00:01\n",
      "   ------------------ --------------------- 7.0/15.5 MB 15.0 MB/s eta 0:00:01\n",
      "   ------------------- -------------------- 7.6/15.5 MB 15.2 MB/s eta 0:00:01\n",
      "   --------------------- ------------------ 8.2/15.5 MB 14.9 MB/s eta 0:00:01\n",
      "   ---------------------- ----------------- 8.6/15.5 MB 14.4 MB/s eta 0:00:01\n",
      "   ------------------------ --------------- 9.5/15.5 MB 14.5 MB/s eta 0:00:01\n",
      "   -------------------------- ------------- 10.3/15.5 MB 14.6 MB/s eta 0:00:01\n",
      "   --------------------------- ------------ 10.7/15.5 MB 14.2 MB/s eta 0:00:01\n",
      "   ---------------------------- ----------- 11.0/15.5 MB 13.6 MB/s eta 0:00:01\n",
      "   ---------------------------- ----------- 11.1/15.5 MB 13.4 MB/s eta 0:00:01\n",
      "   ----------------------------- ---------- 11.5/15.5 MB 12.8 MB/s eta 0:00:01\n",
      "   ------------------------------ --------- 11.9/15.5 MB 12.6 MB/s eta 0:00:01\n",
      "   ------------------------------- -------- 12.2/15.5 MB 11.7 MB/s eta 0:00:01\n",
      "   -------------------------------- ------- 12.6/15.5 MB 11.5 MB/s eta 0:00:01\n",
      "   --------------------------------- ------ 13.1/15.5 MB 11.1 MB/s eta 0:00:01\n",
      "   ----------------------------------- ---- 13.7/15.5 MB 11.3 MB/s eta 0:00:01\n",
      "   ------------------------------------ --- 14.2/15.5 MB 11.1 MB/s eta 0:00:01\n",
      "   ------------------------------------- -- 14.6/15.5 MB 10.7 MB/s eta 0:00:01\n",
      "   ---------------------------------------  15.2/15.5 MB 10.7 MB/s eta 0:00:01\n",
      "   ---------------------------------------  15.5/15.5 MB 10.6 MB/s eta 0:00:01\n",
      "   ---------------------------------------  15.5/15.5 MB 10.6 MB/s eta 0:00:01\n",
      "   ---------------------------------------- 15.5/15.5 MB 9.6 MB/s eta 0:00:00\n",
      "Downloading pytz-2024.1-py2.py3-none-any.whl (505 kB)\n",
      "   ---------------------------------------- 0.0/505.5 kB ? eta -:--:--\n",
      "   --------------------------------------  501.8/505.5 kB 15.4 MB/s eta 0:00:01\n",
      "   --------------------------------------- 505.5/505.5 kB 10.5 MB/s eta 0:00:00\n",
      "Downloading tzdata-2024.1-py2.py3-none-any.whl (345 kB)\n",
      "   ---------------------------------------- 0.0/345.4 kB ? eta -:--:--\n",
      "   --------------------------------------- 345.4/345.4 kB 10.8 MB/s eta 0:00:00\n",
      "Installing collected packages: pytz, tzdata, numpy, pandas\n",
      "Successfully installed numpy-1.26.4 pandas-2.2.1 pytz-2024.1 tzdata-2024.1\n"
     ]
    }
   ],
   "source": [
    "pip install pandas"
   ]
  },
  {
   "cell_type": "code",
   "execution_count": 3,
   "id": "a4ce1de7-6e10-401c-88f5-7c4dc0310258",
   "metadata": {},
   "outputs": [
    {
     "name": "stdout",
     "output_type": "stream",
     "text": [
      "    Name  Age   City\n",
      "0   Raja   25  India\n",
      "1   Rani   30     US\n",
      "2  Rahul   35     UK\n"
     ]
    }
   ],
   "source": [
    "import pandas as pd\n",
    "data = {'Name': ['Raja', 'Rani', 'Rahul'],\n",
    "        'Age': [25, 30, 35],\n",
    "        'City': ['India', 'US', 'UK']}\n",
    "\n",
    "\n",
    "df=pd.DataFrame(data)\n",
    "print(df)"
   ]
  },
  {
   "cell_type": "code",
   "execution_count": 7,
   "id": "961b43a8-d695-4fce-bf2f-090a109e593a",
   "metadata": {},
   "outputs": [
    {
     "name": "stdout",
     "output_type": "stream",
     "text": [
      "    Name   Age    city\n",
      "0   raja   20      hyd\n",
      "1   akhi   24      knr\n",
      "2   santhu 30      bpl\n",
      "3  hari   29      gbrg\n"
     ]
    }
   ],
   "source": [
    "import pandas as pd\n",
    "df=pd.read_csv(r'C:\\Users\\santh\\Documents\\sample.txt')\n",
    "print(df)\n"
   ]
  },
  {
   "cell_type": "code",
   "execution_count": 1,
   "id": "44a242a5-e5b7-47db-a7cd-54ee26413871",
   "metadata": {},
   "outputs": [
    {
     "name": "stdout",
     "output_type": "stream",
     "text": [
      "3628800\n"
     ]
    }
   ],
   "source": [
    "import math\n",
    "a=10\n",
    "c=math.factorial(a)\n",
    "print(c)"
   ]
  },
  {
   "cell_type": "code",
   "execution_count": 5,
   "id": "2bdcf0a5-643e-4abf-8cfa-eb43a0dcc2dc",
   "metadata": {},
   "outputs": [
    {
     "name": "stdout",
     "output_type": "stream",
     "text": [
      "    Name  Age   City\n",
      "0   akki   27  India\n",
      "1   affu   24     US\n",
      "2  vinnu   26     UK\n"
     ]
    }
   ],
   "source": [
    "import pandas as pd \n",
    "a={'Name': ['akki', 'affu', 'vinnu'],\n",
    "        'Age': [27, 24, 26],\n",
    "        'City': ['India', 'US', 'UK']}\n",
    "df=pd.DataFrame(a)\n",
    "print(df)"
   ]
  },
  {
   "cell_type": "code",
   "execution_count": 2,
   "id": "7485ca37-c515-439b-a16f-d74d86b7d134",
   "metadata": {},
   "outputs": [
    {
     "name": "stdout",
     "output_type": "stream",
     "text": [
      "     eid      fname    lname  phone_number   hire_date      job_id  salary  \\\n",
      "0    100     Steven     King  515.123.4567  01-07-2023     AD_PRES   24000   \n",
      "1    101      Neena  Kochhar  515.123.4568  01-07-2023       AD_VP   17000   \n",
      "2    102        Lex  De Haan  515.123.4569  01-07-2023       AD_VP   17000   \n",
      "3    103  Alexander   Hunold  590.423.4567  01-07-2023     IT_PROG    9000   \n",
      "4    104      Bruce    Ernst  590.423.4568  01-07-2023     IT_PROG    6000   \n",
      "..   ...        ...      ...           ...         ...         ...     ...   \n",
      "102  202        Pat      Fay  603.123.6666  04-04-2023      MK_REP    6000   \n",
      "103  203      Susan   Mavris  515.123.7777  04-04-2023      HR_REP    6500   \n",
      "104  204    Hermann     Baer  515.123.8888  04-04-2023      PR_REP   10000   \n",
      "105  205    Shelley  Higgins  515.123.8080  04-04-2023      AC_MGR   12000   \n",
      "106  206    William    Gietz  515.123.8181  04-04-2023  AC_ACCOUNT    8300   \n",
      "\n",
      "     dept_id country  \n",
      "0       90.0      US  \n",
      "1       90.0      US  \n",
      "2       90.0      IN  \n",
      "3       60.0      US  \n",
      "4       60.0      US  \n",
      "..       ...     ...  \n",
      "102     20.0      US  \n",
      "103     40.0      US  \n",
      "104     70.0      US  \n",
      "105    110.0      US  \n",
      "106    110.0      US  \n",
      "\n",
      "[107 rows x 9 columns]\n"
     ]
    }
   ],
   "source": [
    "import pandas as pd\n",
    "df=pd.read_csv(r'C:\\QT\\Gcp\\employee.csv')\n",
    "print(df)"
   ]
  },
  {
   "cell_type": "code",
   "execution_count": 1,
   "id": "5ebbcadf-e3c3-49cf-a841-fce483e3a8cb",
   "metadata": {},
   "outputs": [
    {
     "name": "stdout",
     "output_type": "stream",
     "text": [
      "     eid      fname    lname  phone_number   hire_date      job_id  salary  \\\n",
      "0    100     Steven     King  515.123.4567  01-07-2023     AD_PRES   24000   \n",
      "1    101      Neena  Kochhar  515.123.4568  01-07-2023       AD_VP   17000   \n",
      "2    102        Lex  De Haan  515.123.4569  01-07-2023       AD_VP   17000   \n",
      "3    103  Alexander   Hunold  590.423.4567  01-07-2023     IT_PROG    9000   \n",
      "4    104      Bruce    Ernst  590.423.4568  01-07-2023     IT_PROG    6000   \n",
      "..   ...        ...      ...           ...         ...         ...     ...   \n",
      "102  202        Pat      Fay  603.123.6666  04-04-2023      MK_REP    6000   \n",
      "103  203      Susan   Mavris  515.123.7777  04-04-2023      HR_REP    6500   \n",
      "104  204    Hermann     Baer  515.123.8888  04-04-2023      PR_REP   10000   \n",
      "105  205    Shelley  Higgins  515.123.8080  04-04-2023      AC_MGR   12000   \n",
      "106  206    William    Gietz  515.123.8181  04-04-2023  AC_ACCOUNT    8300   \n",
      "\n",
      "     dept_id country  \n",
      "0       90.0      US  \n",
      "1       90.0      US  \n",
      "2       90.0      IN  \n",
      "3       60.0      US  \n",
      "4       60.0      US  \n",
      "..       ...     ...  \n",
      "102     20.0      US  \n",
      "103     40.0      US  \n",
      "104     70.0      US  \n",
      "105    110.0      US  \n",
      "106    110.0      US  \n",
      "\n",
      "[107 rows x 9 columns]\n"
     ]
    }
   ],
   "source": [
    "import pandas as pd\n",
    "df=pd.read_csv(r'C:\\QT\\Gcp\\employee.csv')\n",
    "print(df)"
   ]
  },
  {
   "cell_type": "code",
   "execution_count": null,
   "id": "c57205ae-47b4-418c-b22e-d55fe26a4404",
   "metadata": {},
   "outputs": [],
   "source": []
  }
 ],
 "metadata": {
  "kernelspec": {
   "display_name": "Python 3 (ipykernel)",
   "language": "python",
   "name": "python3"
  },
  "language_info": {
   "codemirror_mode": {
    "name": "ipython",
    "version": 3
   },
   "file_extension": ".py",
   "mimetype": "text/x-python",
   "name": "python",
   "nbconvert_exporter": "python",
   "pygments_lexer": "ipython3",
   "version": "3.12.2"
  }
 },
 "nbformat": 4,
 "nbformat_minor": 5
}
